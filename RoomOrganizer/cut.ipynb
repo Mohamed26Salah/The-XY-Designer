{
 "cells": [
  {
   "cell_type": "code",
   "execution_count": null,
   "metadata": {},
   "outputs": [],
   "source": [
    "from RoomModel import *"
   ]
  },
  {
   "cell_type": "code",
   "execution_count": null,
   "metadata": {},
   "outputs": [],
   "source": [
    "import json\n",
    "# Opening JSON file\n",
    "f = open('SampleData.json')\n",
    "\n",
    "# returns JSON object as \n",
    "# a dictionary\n",
    "data = json.load(f)\n",
    "  \n",
    "# Iterating through the json\n",
    "# list\n",
    "Room =Room.from_dict(data)\n",
    "  \n",
    "# Closing file\n",
    "f.close()"
   ]
  },
  {
   "cell_type": "code",
   "execution_count": null,
   "metadata": {},
   "outputs": [],
   "source": [
    "print(Room.furniture.dimensions)"
   ]
  },
  {
   "cell_type": "code",
   "execution_count": null,
   "metadata": {
    "id": "Uh3jG0Rkj7p3"
   },
   "outputs": [],
   "source": [
    "from Room import *"
   ]
  }
 ],
 "metadata": {
  "kernelspec": {
   "display_name": "reinforcmentlearning",
   "language": "python",
   "name": "python3"
  },
  "language_info": {
   "name": "python",
   "version": "3.8.15 (default, Nov 24 2022, 14:38:14) [MSC v.1916 64 bit (AMD64)]"
  },
  "orig_nbformat": 4,
  "vscode": {
   "interpreter": {
    "hash": "b16aa9c2f9ca519bd84c3170bdda05fa03e46a681e2095a6220d679a6ba17b2f"
   }
  }
 },
 "nbformat": 4,
 "nbformat_minor": 2
}
